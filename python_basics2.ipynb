{
  "nbformat": 4,
  "nbformat_minor": 0,
  "metadata": {
    "colab": {
      "name": "python_basics2.ipynb",
      "provenance": [],
      "collapsed_sections": [],
      "authorship_tag": "ABX9TyMN9R8eTXwmoWaqSFoszH6g",
      "include_colab_link": true
    },
    "kernelspec": {
      "name": "python3",
      "display_name": "Python 3"
    }
  },
  "cells": [
    {
      "cell_type": "markdown",
      "metadata": {
        "id": "view-in-github",
        "colab_type": "text"
      },
      "source": [
        "<a href=\"https://colab.research.google.com/github/Ravi-shankar100/Python-Basics/blob/master/python_basics2.ipynb\" target=\"_parent\"><img src=\"https://colab.research.google.com/assets/colab-badge.svg\" alt=\"Open In Colab\"/></a>"
      ]
    },
    {
      "cell_type": "code",
      "metadata": {
        "id": "bJPDvK0_3QKq",
        "colab_type": "code",
        "colab": {}
      },
      "source": [
        "##Sets \n",
        "set_var = {'HitMan','IronMan'}"
      ],
      "execution_count": null,
      "outputs": []
    },
    {
      "cell_type": "code",
      "metadata": {
        "id": "Xvkn4K173gk2",
        "colab_type": "code",
        "colab": {
          "base_uri": "https://localhost:8080/",
          "height": 34
        },
        "outputId": "811cd4df-395d-48c2-edb9-ae3f605975bd"
      },
      "source": [
        "print(set_var)"
      ],
      "execution_count": null,
      "outputs": [
        {
          "output_type": "stream",
          "text": [
            "{'HitMan', 'IronMan'}\n"
          ],
          "name": "stdout"
        }
      ]
    },
    {
      "cell_type": "code",
      "metadata": {
        "id": "OypRyzCo3gj4",
        "colab_type": "code",
        "colab": {}
      },
      "source": [
        "set_var.add('Hulk')"
      ],
      "execution_count": null,
      "outputs": []
    },
    {
      "cell_type": "code",
      "metadata": {
        "id": "BuGa20kS3nU0",
        "colab_type": "code",
        "colab": {
          "base_uri": "https://localhost:8080/",
          "height": 34
        },
        "outputId": "dc65bf61-de8c-41aa-b743-3faa0706c726"
      },
      "source": [
        "print(set_var)"
      ],
      "execution_count": null,
      "outputs": [
        {
          "output_type": "stream",
          "text": [
            "{'HitMan', 'Hulk', 'IronMan'}\n"
          ],
          "name": "stdout"
        }
      ]
    },
    {
      "cell_type": "code",
      "metadata": {
        "id": "JG35rDdA4kYX",
        "colab_type": "code",
        "colab": {
          "base_uri": "https://localhost:8080/",
          "height": 34
        },
        "outputId": "9f3736f3-81db-4eac-d034-597e67549819"
      },
      "source": [
        "set1 = {'HitMan','IronMan','Hulk'}\n",
        "set2 = {'HitMan','IronMan','SuperMan'}\n",
        "\n",
        "set2.difference(set1)"
      ],
      "execution_count": null,
      "outputs": [
        {
          "output_type": "execute_result",
          "data": {
            "text/plain": [
              "{'SuperMan'}"
            ]
          },
          "metadata": {
            "tags": []
          },
          "execution_count": 16
        }
      ]
    },
    {
      "cell_type": "code",
      "metadata": {
        "id": "CnDm6g3-4_it",
        "colab_type": "code",
        "colab": {
          "base_uri": "https://localhost:8080/",
          "height": 34
        },
        "outputId": "9dfe6647-e625-45a1-8ed0-615df8c9ff56"
      },
      "source": [
        "set2.difference_update(set1)\n",
        "set2"
      ],
      "execution_count": null,
      "outputs": [
        {
          "output_type": "execute_result",
          "data": {
            "text/plain": [
              "{'SuperMan'}"
            ]
          },
          "metadata": {
            "tags": []
          },
          "execution_count": 14
        }
      ]
    },
    {
      "cell_type": "code",
      "metadata": {
        "id": "zHyhzw5f5NpV",
        "colab_type": "code",
        "colab": {
          "base_uri": "https://localhost:8080/",
          "height": 34
        },
        "outputId": "b02035a2-5db2-469b-921e-9d0363636d22"
      },
      "source": [
        "set2.intersection(set1)\n",
        "set2.intersection_update(set1)\n",
        "set2"
      ],
      "execution_count": null,
      "outputs": [
        {
          "output_type": "execute_result",
          "data": {
            "text/plain": [
              "{'HitMan', 'IronMan'}"
            ]
          },
          "metadata": {
            "tags": []
          },
          "execution_count": 19
        }
      ]
    },
    {
      "cell_type": "code",
      "metadata": {
        "id": "5fc6yVD46SnB",
        "colab_type": "code",
        "colab": {
          "base_uri": "https://localhost:8080/",
          "height": 34
        },
        "outputId": "47cb7361-0420-4cf4-85f5-989fdd289e6c"
      },
      "source": [
        "##Dictionaries\n",
        "dicti = {}\n",
        "type(dicti)"
      ],
      "execution_count": null,
      "outputs": [
        {
          "output_type": "execute_result",
          "data": {
            "text/plain": [
              "dict"
            ]
          },
          "metadata": {
            "tags": []
          },
          "execution_count": 20
        }
      ]
    },
    {
      "cell_type": "code",
      "metadata": {
        "id": "fmWh53DM6ZSt",
        "colab_type": "code",
        "colab": {
          "base_uri": "https://localhost:8080/",
          "height": 34
        },
        "outputId": "e48346c2-c472-440e-ea95-d3a21369c74e"
      },
      "source": [
        "dicti = {\"Car1\": \"Audi\", \"Car2\": \"BMW\", \"Car3\": \"MercedesBenz\"}\n",
        "print(dicti)"
      ],
      "execution_count": null,
      "outputs": [
        {
          "output_type": "stream",
          "text": [
            "{'Car1': 'Audi', 'Car2': 'BMW', 'Car3': 'MercedesBenz'}\n"
          ],
          "name": "stdout"
        }
      ]
    },
    {
      "cell_type": "code",
      "metadata": {
        "id": "4CtUTzbI6m6f",
        "colab_type": "code",
        "colab": {
          "base_uri": "https://localhost:8080/",
          "height": 68
        },
        "outputId": "7006f644-2eef-4e44-b90b-021a110fce51"
      },
      "source": [
        "for x in dicti:\n",
        "  print(x)"
      ],
      "execution_count": null,
      "outputs": [
        {
          "output_type": "stream",
          "text": [
            "Car1\n",
            "Car2\n",
            "Car3\n"
          ],
          "name": "stdout"
        }
      ]
    },
    {
      "cell_type": "code",
      "metadata": {
        "id": "ovwZxE3E6qhh",
        "colab_type": "code",
        "colab": {
          "base_uri": "https://localhost:8080/",
          "height": 68
        },
        "outputId": "b3ae45b9-c18c-4867-a38d-a5ef03cd1e88"
      },
      "source": [
        "for x in dicti.values():\n",
        "  print(x)"
      ],
      "execution_count": null,
      "outputs": [
        {
          "output_type": "stream",
          "text": [
            "Audi\n",
            "BMW\n",
            "MercedesBenz\n"
          ],
          "name": "stdout"
        }
      ]
    },
    {
      "cell_type": "code",
      "metadata": {
        "id": "L6CMvywM6yTF",
        "colab_type": "code",
        "colab": {
          "base_uri": "https://localhost:8080/",
          "height": 68
        },
        "outputId": "9a34e983-ed99-4f5f-ec6b-bf462a26924f"
      },
      "source": [
        "for x in dicti.items():\n",
        "  print(x)"
      ],
      "execution_count": null,
      "outputs": [
        {
          "output_type": "stream",
          "text": [
            "('Car1', 'Audi')\n",
            "('Car2', 'BMW')\n",
            "('Car3', 'MercedesBenz')\n"
          ],
          "name": "stdout"
        }
      ]
    },
    {
      "cell_type": "code",
      "metadata": {
        "id": "nKCZ_acw7MIv",
        "colab_type": "code",
        "colab": {
          "base_uri": "https://localhost:8080/",
          "height": 34
        },
        "outputId": "60851311-5a13-44b9-90dc-371dc732360a"
      },
      "source": [
        "dicti['Car4'] = 'Audi2.0'\n",
        "dicti"
      ],
      "execution_count": null,
      "outputs": [
        {
          "output_type": "execute_result",
          "data": {
            "text/plain": [
              "{'Car1': 'Audi', 'Car2': 'BMW', 'Car3': 'MercedesBenz', 'Car4': 'Audi2.0'}"
            ]
          },
          "metadata": {
            "tags": []
          },
          "execution_count": 27
        }
      ]
    },
    {
      "cell_type": "code",
      "metadata": {
        "id": "AgCHNiBP7XTE",
        "colab_type": "code",
        "colab": {
          "base_uri": "https://localhost:8080/",
          "height": 34
        },
        "outputId": "608625d1-1bdd-41ef-a326-9df50690d17e"
      },
      "source": [
        "dicti['Car1'] = 'Maruti'\n",
        "dicti"
      ],
      "execution_count": null,
      "outputs": [
        {
          "output_type": "execute_result",
          "data": {
            "text/plain": [
              "{'Car1': 'Maruti', 'Car2': 'BMW', 'Car3': 'MercedesBenz', 'Car4': 'Audi2.0'}"
            ]
          },
          "metadata": {
            "tags": []
          },
          "execution_count": 28
        }
      ]
    },
    {
      "cell_type": "code",
      "metadata": {
        "id": "JQkz79Rd7ePD",
        "colab_type": "code",
        "colab": {
          "base_uri": "https://localhost:8080/",
          "height": 68
        },
        "outputId": "86c50252-cd21-43c8-c172-924a7ab8f0ea"
      },
      "source": [
        "##Nested Dictionaries\n",
        "\n",
        "car1_Model = {\"Car1\": \"Audi\"}\n",
        "car2_Model = {\"Car2\": \"BMW\"}\n",
        "car3_Model = {\"Car3\": \"MercedesBenz\"}\n",
        "\n",
        "car_Model = {\"car1\": car1_Model,\"car2\": car2_Model,\"car3\":car3_Model}\n",
        "car_Model"
      ],
      "execution_count": null,
      "outputs": [
        {
          "output_type": "execute_result",
          "data": {
            "text/plain": [
              "{'car1': {'Car1': 'Audi'},\n",
              " 'car2': {'Car2': 'BMW'},\n",
              " 'car3': {'Car3': 'MercedesBenz'}}"
            ]
          },
          "metadata": {
            "tags": []
          },
          "execution_count": 29
        }
      ]
    },
    {
      "cell_type": "code",
      "metadata": {
        "id": "itWqdUgQ8dJJ",
        "colab_type": "code",
        "colab": {
          "base_uri": "https://localhost:8080/",
          "height": 34
        },
        "outputId": "5903ac6d-2492-474b-864f-09e540a3994f"
      },
      "source": [
        "print(car_Model['car1']['Car1'])"
      ],
      "execution_count": null,
      "outputs": [
        {
          "output_type": "stream",
          "text": [
            "Audi\n"
          ],
          "name": "stdout"
        }
      ]
    },
    {
      "cell_type": "code",
      "metadata": {
        "id": "OsJTiv5W9FPY",
        "colab_type": "code",
        "colab": {
          "base_uri": "https://localhost:8080/",
          "height": 34
        },
        "outputId": "132a3e02-1679-4e78-8db8-48eab2af6494"
      },
      "source": [
        "##Tuples\n",
        "\n",
        "my_tuple = ()\n",
        "my_tuple = ('Krish','Ankur','Naik')\n",
        "my_tuple"
      ],
      "execution_count": null,
      "outputs": [
        {
          "output_type": "execute_result",
          "data": {
            "text/plain": [
              "('Krish', 'Ankur', 'Naik')"
            ]
          },
          "metadata": {
            "tags": []
          },
          "execution_count": 35
        }
      ]
    },
    {
      "cell_type": "code",
      "metadata": {
        "id": "-6GXrMY49P1l",
        "colab_type": "code",
        "colab": {
          "base_uri": "https://localhost:8080/",
          "height": 34
        },
        "outputId": "b5d19c58-4e7f-4476-dddc-2618db26416b"
      },
      "source": [
        "my_tuple[0]\n",
        "my_tuple = ('Radha','Krishna')\n",
        "my_tuple"
      ],
      "execution_count": null,
      "outputs": [
        {
          "output_type": "execute_result",
          "data": {
            "text/plain": [
              "('Radha', 'Krishna')"
            ]
          },
          "metadata": {
            "tags": []
          },
          "execution_count": 38
        }
      ]
    },
    {
      "cell_type": "code",
      "metadata": {
        "id": "Wbbbn7fy90Ws",
        "colab_type": "code",
        "colab": {
          "base_uri": "https://localhost:8080/",
          "height": 34
        },
        "outputId": "aabbfbfe-1e48-42ea-ae59-3dbaeafdc0c1"
      },
      "source": [
        "my_tuple.count('Krishna')"
      ],
      "execution_count": null,
      "outputs": [
        {
          "output_type": "execute_result",
          "data": {
            "text/plain": [
              "1"
            ]
          },
          "metadata": {
            "tags": []
          },
          "execution_count": 40
        }
      ]
    },
    {
      "cell_type": "code",
      "metadata": {
        "id": "eox04IJp98Pk",
        "colab_type": "code",
        "colab": {
          "base_uri": "https://localhost:8080/",
          "height": 34
        },
        "outputId": "010efdfd-e1e7-4693-8680-0a890420113e"
      },
      "source": [
        "my_tuple.index('Krishna')"
      ],
      "execution_count": null,
      "outputs": [
        {
          "output_type": "execute_result",
          "data": {
            "text/plain": [
              "1"
            ]
          },
          "metadata": {
            "tags": []
          },
          "execution_count": 41
        }
      ]
    },
    {
      "cell_type": "code",
      "metadata": {
        "id": "tQYC3u-YYppA",
        "colab_type": "code",
        "colab": {}
      },
      "source": [
        "##print vs return\n",
        "\n",
        "def hello():\n",
        "  return(\"Hello Welcome\")"
      ],
      "execution_count": null,
      "outputs": []
    },
    {
      "cell_type": "code",
      "metadata": {
        "id": "vsEmDDwMYvb2",
        "colab_type": "code",
        "colab": {
          "base_uri": "https://localhost:8080/",
          "height": 51
        },
        "outputId": "a85dcdab-0097-483c-b6a0-f81ba26ff344"
      },
      "source": [
        "val = hello()\n",
        "print(val)"
      ],
      "execution_count": null,
      "outputs": [
        {
          "output_type": "stream",
          "text": [
            "Hello Welcome\n",
            "None\n"
          ],
          "name": "stdout"
        }
      ]
    },
    {
      "cell_type": "code",
      "metadata": {
        "id": "g1hhDIQKZFK0",
        "colab_type": "code",
        "colab": {}
      },
      "source": [
        "##positional vs keyword\n",
        "\n",
        "def hello(*args,**kwargs):\n",
        "  print(args)\n",
        "  print(kwargs)"
      ],
      "execution_count": null,
      "outputs": []
    },
    {
      "cell_type": "code",
      "metadata": {
        "id": "hk-VePX0ZWHA",
        "colab_type": "code",
        "colab": {
          "base_uri": "https://localhost:8080/",
          "height": 51
        },
        "outputId": "39bf7d27-93f8-43e8-9793-236e06973666"
      },
      "source": [
        "hello(\"Krish\",\"Naik\",age = 29,dob = 1998)"
      ],
      "execution_count": null,
      "outputs": [
        {
          "output_type": "stream",
          "text": [
            "('Krish', 'Naik')\n",
            "{'age': 29, 'dob': 1998}\n"
          ],
          "name": "stdout"
        }
      ]
    },
    {
      "cell_type": "code",
      "metadata": {
        "id": "zx5W8-7_ZhI0",
        "colab_type": "code",
        "colab": {}
      },
      "source": [
        "lst = ['Krish','Naik']\n",
        "dicti = {'age': 29, 'dob': 1998}"
      ],
      "execution_count": null,
      "outputs": []
    },
    {
      "cell_type": "code",
      "metadata": {
        "id": "DTKK9W2qZpsx",
        "colab_type": "code",
        "colab": {
          "base_uri": "https://localhost:8080/",
          "height": 51
        },
        "outputId": "714b8635-9a65-4a78-f292-a046a654c544"
      },
      "source": [
        "hello(lst,dicti)"
      ],
      "execution_count": null,
      "outputs": [
        {
          "output_type": "stream",
          "text": [
            "(['Krish', 'Naik'], {'age': 29, 'dob': 1998})\n",
            "{}\n"
          ],
          "name": "stdout"
        }
      ]
    },
    {
      "cell_type": "code",
      "metadata": {
        "id": "Z2gL8Tb_Ztae",
        "colab_type": "code",
        "colab": {
          "base_uri": "https://localhost:8080/",
          "height": 51
        },
        "outputId": "8d340bfa-16f2-492e-92c6-de945dbe5925"
      },
      "source": [
        "hello(*lst,**dicti)"
      ],
      "execution_count": null,
      "outputs": [
        {
          "output_type": "stream",
          "text": [
            "('Krish', 'Naik')\n",
            "{'age': 29, 'dob': 1998}\n"
          ],
          "name": "stdout"
        }
      ]
    },
    {
      "cell_type": "code",
      "metadata": {
        "id": "QINuMyTnadPd",
        "colab_type": "code",
        "colab": {}
      },
      "source": [
        "lst = [1,4,9,7,6,9,6]"
      ],
      "execution_count": null,
      "outputs": []
    },
    {
      "cell_type": "code",
      "metadata": {
        "id": "tCY-V8LSaWcJ",
        "colab_type": "code",
        "colab": {}
      },
      "source": [
        "##Returning two values in a function\n",
        "def even_odd(lst):\n",
        "  even_sum = 0\n",
        "  odd_sum = 0\n",
        "  for i in lst:\n",
        "    if i %2 == 0:\n",
        "      even_sum = even_sum + i\n",
        "    else:\n",
        "      odd_sum = odd_sum + i\n",
        "  return even_sum,odd_sum"
      ],
      "execution_count": null,
      "outputs": []
    },
    {
      "cell_type": "code",
      "metadata": {
        "id": "vsvZphMPa0cp",
        "colab_type": "code",
        "colab": {
          "base_uri": "https://localhost:8080/",
          "height": 34
        },
        "outputId": "74939205-f61e-429a-9109-f9a4657134be"
      },
      "source": [
        "even_odd(lst)"
      ],
      "execution_count": null,
      "outputs": [
        {
          "output_type": "execute_result",
          "data": {
            "text/plain": [
              "(12, 16)"
            ]
          },
          "metadata": {
            "tags": []
          },
          "execution_count": 17
        }
      ]
    }
  ]
}